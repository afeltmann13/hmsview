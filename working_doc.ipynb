{
 "cells": [
  {
   "cell_type": "code",
   "execution_count": null,
   "id": "374ce072",
   "metadata": {},
   "outputs": [],
   "source": [
    "import geopandas as gpd\n",
    "import requests as req\n",
    "import tempfile as tmp\n",
    "import datetime as dt\n",
    "import os\n",
    "import folium as fl\n",
    "import sqlalchemy as db\n",
    "\n",
    "import psycopg2 as post\n",
    "\n",
    "from sqlalchemy.orm import sessionmaker, declarative_base\n",
    "\n",
    "from zipfile import ZipFile"
   ]
  },
  {
   "cell_type": "code",
   "execution_count": null,
   "id": "cc0bf998",
   "metadata": {},
   "outputs": [],
   "source": [
    "### This file is part of HMSView, a tool for visualizing and analyzing data from the HMS (Hydrological Modeling System)."
   ]
  },
  {
   "cell_type": "code",
   "execution_count": null,
   "id": "73e45ed8",
   "metadata": {},
   "outputs": [],
   "source": [
    "### HMS data query"
   ]
  },
  {
   "cell_type": "code",
   "execution_count": null,
   "id": "70e6d915",
   "metadata": {},
   "outputs": [],
   "source": [
    "today = dt.date.today()\n",
    "\n",
    "start_day = today - dt.timedelta(days=1)\n",
    "\n",
    "rolling_days = [start_day - dt.timedelta(days = x) for x in range(7)]\n",
    "\n",
    "# year =start_day.strftime('%Y')\n",
    "# month = start_day.strftime('%m')\n",
    "# day = start_day.strftime('%d')\n",
    "url_list = [f\"https://satepsanone.nesdis.noaa.gov/pub/FIRE/web/HMS/Smoke_Polygons/Shapefile/{x.strftime('%Y')}/{x.strftime('%m')}/hms_smoke{x.strftime('%Y%m%d')}.zip\" for x  in rolling_days]\n",
    "\n",
    "url_list\n",
    "def open_zipped_data(url: str) -> gpd.GeoDataFrame:\n",
    "    \"\"\"\n",
    "\n",
    "    Args:\n",
    "        data (list of tuples): Each tuple contains state, county, and URL to the zipped data.\n",
    "    \"\"\"\n",
    "\n",
    "    with req.get(url, timeout=500) as r:\n",
    "        r.raise_for_status()\n",
    "        with tmp.TemporaryFile() as tmp_file:    \n",
    "            tmp_file.write(r.content)\n",
    "            with tmp.TemporaryDirectory() as tmp_dir:          \n",
    "                with ZipFile(tmp_file, \"r\") as zip_file:\n",
    "                    zip_file.extractall(tmp_dir)\n",
    "                for file in os.listdir(tmp_dir):\n",
    "                    if file.endswith(\".shp\"):\n",
    "                        file_location = os.path.join(tmp_dir, file)\n",
    "                        downloaded_data = gpd.read_file(file_location)\n",
    "    return downloaded_data\n",
    "#get state data\n",
    "states = open_zipped_data(\"https://www2.census.gov/geo/tiger/TIGER2024/STATE/tl_2024_us_state.zip\").to_crs(\"EPSG:4326\")\n",
    "states.head()\n",
    "\n",
    "states_dissolved = states.dissolve()\n",
    "\n",
    "#handle Smoke data\n",
    "dat = [open_zipped_data(x).to_crs(\"EPSG:4326\") for x in url_list]\n",
    "\n",
    "melded = [x.clip(states_dissolved).dissolve(by=['Density'], as_index=False) for x in dat]"
   ]
  },
  {
   "cell_type": "code",
   "execution_count": null,
   "id": "7bf6e735",
   "metadata": {},
   "outputs": [],
   "source": [
    "POSTGRESS_USER = os.environ['POSTGRESS_USER']\n",
    "POSTGRESS_PASS = os.environ['POSTGRESS_PASSWORD']\n",
    "POSTGRESS_HOST = os.environ['POSTGRESS_HOST']\n",
    "POSTGRESS_PORT = os.environ['POSTGRESS_PORT']"
   ]
  },
  {
   "cell_type": "code",
   "execution_count": null,
   "id": "ac16c2f0",
   "metadata": {},
   "outputs": [],
   "source": [
    "engine = post.connect(dbname = 'postgres',\n",
    "                      user = POSTGRESS_USER, \n",
    "                      host = POSTGRESS_HOST,\n",
    "                      password = POSTGRESS_PASS,)"
   ]
  },
  {
   "cell_type": "code",
   "execution_count": null,
   "id": "e3928b18",
   "metadata": {},
   "outputs": [],
   "source": [
    "declarative_base()"
   ]
  },
  {
   "cell_type": "code",
   "execution_count": null,
   "id": "25b09ad1",
   "metadata": {},
   "outputs": [],
   "source": [
    "from psycopg2.extensions import ISOLATION_LEVEL_AUTOCOMMIT\n",
    "from psycopg2 import sql\n",
    "\n",
    "\n",
    "\n",
    "engine.set_isolation_level(ISOLATION_LEVEL_AUTOCOMMIT)"
   ]
  },
  {
   "cell_type": "code",
   "execution_count": null,
   "id": "6f27da55",
   "metadata": {},
   "outputs": [],
   "source": [
    "cur = engine.cursor()\n",
    "\n",
    "cur.execute(sql.SQL(\"CREATE DATABASE {}\").format(\n",
    "    sql.Identifier('hmsview'))\n",
    "            )"
   ]
  },
  {
   "cell_type": "code",
   "execution_count": null,
   "id": "3c0c18de",
   "metadata": {},
   "outputs": [],
   "source": [
    "cur.execute(\"CREATE TABLE smoke_data (id serial PRIMARY KEY, )\")"
   ]
  },
  {
   "cell_type": "code",
   "execution_count": null,
   "id": "8b867e51",
   "metadata": {},
   "outputs": [],
   "source": [
    "conn.autocommit = True"
   ]
  },
  {
   "cell_type": "code",
   "execution_count": null,
   "id": "b7d6f634",
   "metadata": {},
   "outputs": [],
   "source": [
    "cur = con.cursor()\n",
    "\n",
    "cur.execute(pys)"
   ]
  },
  {
   "cell_type": "code",
   "execution_count": null,
   "id": "322dba69",
   "metadata": {},
   "outputs": [],
   "source": [
    "from dataclasses import dataclass\n",
    "\n",
    "\n",
    "@dataclass\n",
    "class HmsDataHandler:\n",
    "    \"\"\"Class to handle data operations for the HMS project.\"\"\"\n",
    "\n",
    "    start_date: dt.datetime = dt.date.today() - dt.timedelta(days=1)\n",
    "    year_delta: float = 4\n",
    "    smoke_base_url: str = \"https://satepsanone.nesdis.noaa.gov/pub/FIRE/web/HMS/Smoke_Polygons/Shapefile/\"\n",
    "    fire_base_url: str = \"https://satepsanone.nesdis.noaa.gov/pub/FIRE/web/HMS/Fire_Points/Shapefile/\"\n",
    "\n",
    "    def __post_init__(self):\n",
    "        \"\"\"Initializes the hms_data_handler with the necessary data.\"\"\"\n",
    "        self.rolling_days = [\n",
    "            self.start_date - dt.timedelta(days=x) for x in range(int(self.year_delta*365))\n",
    "        ]\n",
    "        self.state_data = (\n",
    "            self.__open_zipped_data__(\n",
    "                \"https://www2.census.gov/geo/tiger/TIGER2024/STATE/tl_2024_us_state.zip\"\n",
    "            ).to_crs(\"EPSG:4326\").dissolve()\n",
    "        )\n",
    "\n",
    "    @staticmethod\n",
    "    def __open_zipped_data__(url) -> gpd.GeoDataFrame:\n",
    "        \"\"\"\n",
    "        Args:\n",
    "            data (list of tuples): Each tuple contains state, county, and URL to the zipped data.\n",
    "        \"\"\"\n",
    "        \n",
    "        if os.path.exists(url):\n",
    "            with tmp.TemporaryFile() as tmp_file:\n",
    "                    tmp_file.write(url)\n",
    "                    with tmp.TemporaryDirectory() as tmp_dir:\n",
    "                        with ZipFile(tmp_file, \"r\") as zip_file:\n",
    "                            zip_file.extractall(tmp_dir)\n",
    "                        for file in os.listdir(tmp_dir):\n",
    "                            if file.endswith(\".shp\"):\n",
    "                                file_location = os.path.join(tmp_dir, file)\n",
    "                                return gpd.read_file(file_location).to_crs(\"EPSG:4326\")\n",
    "        else:\n",
    "            with req.get(url, timeout=500) as r:\n",
    "                r.raise_for_status()\n",
    "                with tmp.TemporaryFile() as tmp_file:\n",
    "                    tmp_file.write(r.content)\n",
    "                    with tmp.TemporaryDirectory() as tmp_dir:\n",
    "                        with ZipFile(tmp_file, \"r\") as zip_file:\n",
    "                            zip_file.extractall(tmp_dir)\n",
    "                        for file in os.listdir(tmp_dir):\n",
    "                            if file.endswith(\".shp\"):\n",
    "                                file_location = os.path.join(tmp_dir, file)\n",
    "                                return gpd.read_file(file_location).to_crs(\"EPSG:4326\")\n",
    "\n",
    "    @staticmethod\n",
    "    def smoke_style_row(row):\n",
    "        \"\"\" \"\n",
    "        Args:\n",
    "            row (pandas.Series): A row from the GeoDataFrame containing smoke data.\n",
    "            Returns:\n",
    "                dict: A dictionary with style properties for the smoke data.\"\"\"\n",
    "\n",
    "        if row[\"Density\"] == \"Light\":\n",
    "            return {\"fillColor\": \"#b5b5b5\", \"weight\": 1, \"color\": \"#b5b5b5\"}\n",
    "        elif row[\"Density\"] == \"Medium\":\n",
    "            return {\"fillColor\": \"#6b6b6b\", \"weight\": 1, \"color\": \"#6b6b6b\"}\n",
    "        elif row[\"Density\"] == \"Heavy\":\n",
    "            return {\"fillColor\": \"#AC0000\", \"weight\": 1, \"color\": \"#AC0000\"}\n",
    "        else:\n",
    "            return {\"fillColor\": \"#0201015A\", \"weight\": 1, \"color\": \"#0201015A\"}\n",
    "     \n",
    "    def get_data_links(self):\n",
    "        \n",
    "        days_back = self.rolling_days\n",
    "        smoke_url= self.smoke_base_url\n",
    "        fire_url = self.fire_base_url\n",
    "        \n",
    "        self.smoke_url_list = [\n",
    "            [\n",
    "                x,\n",
    "                f\"{smoke_url}{x.strftime('%Y')}/{x.strftime('%m')}/hms_smoke{x.strftime('%Y%m%d')}.zip\",\n",
    "            ]\n",
    "            for x in days_back\n",
    "        ]\n",
    "        self.fire_url_list = [\n",
    "            [\n",
    "                x,\n",
    "                f\"{fire_url}/{x.strftime('%Y')}/{x.strftime('%m')}/hms_fire{x.strftime('%Y%m%d')}.zip\",\n",
    "            ]\n",
    "            for x in days_back\n",
    "        ]\n",
    "        \n",
    "        return self.smoke_url_list, self.fire_url_list\n",
    "\n",
    "    def get_smoke_data(self):\n",
    "        \"\"\"_summary_\n",
    "\n",
    "        Returns:\n",
    "            list: _description_\n",
    "        -----------\n",
    "        Retrieves smoke data for the specified date range, processes it, and returns a list of GeoDataFrames.\n",
    "        -----------\n",
    "        This method fetches smoke data from the HMS service, processes it to the correct coordinate reference system (CRS),\n",
    "        clips it to the state boundaries, and applies a style to each row based on the smoke density.\n",
    "        The processed data is returned as a list of GeoDataFrames, each containing the date and styled smoke data.\n",
    "        \"\"\"\n",
    "        \n",
    "        smoke_list, _ = self.get_data_links()\n",
    "        \n",
    "        smoke_data_raw = [\n",
    "            [\n",
    "                x[0],\n",
    "                self.__open_zipped_data__(x[1])\n",
    "                .to_crs(\"EPSG:4326\")\n",
    "                .clip(self.state_data)\n",
    "                .dissolve(by=[\"Density\"], as_index=False),\n",
    "            ]\n",
    "            for x in smoke_list\n",
    "        ]\n",
    "        return [\n",
    "            [\n",
    "                x[0],\n",
    "                x[1].assign(style=x[1].apply(self.smoke_style_row, axis=1))\n",
    "                ]\n",
    "            for x in smoke_data_raw\n",
    "        ]\n",
    "\n",
    "    def get_fire_data(self):\n",
    "        \n",
    "        return [\n",
    "            [\n",
    "                x[0],\n",
    "                self.__open_zipped_data__(x[1])\n",
    "                .to_crs(\"EPSG:4326\")\n",
    "                .clip(self.state_data)\n",
    "            ]\n",
    "            for x in self.fire_url_list\n",
    "        ]\n"
   ]
  },
  {
   "cell_type": "code",
   "execution_count": null,
   "id": "426ed7a1",
   "metadata": {},
   "outputs": [],
   "source": [
    "### handle the data clip by state "
   ]
  },
  {
   "cell_type": "code",
   "execution_count": null,
   "id": "92d5f04d",
   "metadata": {},
   "outputs": [],
   "source": [
    "y = HmsDataHandler(year_delta=0.25)"
   ]
  },
  {
   "cell_type": "code",
   "execution_count": null,
   "id": "f5cd5a01",
   "metadata": {},
   "outputs": [],
   "source": [
    "y.get_data_links()"
   ]
  },
  {
   "cell_type": "code",
   "execution_count": null,
   "id": "1c03ee78",
   "metadata": {},
   "outputs": [],
   "source": [
    "y.smoke_url_list"
   ]
  },
  {
   "cell_type": "code",
   "execution_count": null,
   "id": "f4dd03cb",
   "metadata": {},
   "outputs": [],
   "source": [
    "smoke_data = y.get_smoke_data()"
   ]
  },
  {
   "cell_type": "code",
   "execution_count": null,
   "id": "19f353b4",
   "metadata": {},
   "outputs": [],
   "source": [
    "smoke_data[0]"
   ]
  },
  {
   "cell_type": "code",
   "execution_count": null,
   "id": "c173c2dd",
   "metadata": {},
   "outputs": [],
   "source": [
    "from utilities.data_handler import HmsDataHandler\n",
    "\n",
    "y = HmsDataHandler()"
   ]
  },
  {
   "cell_type": "code",
   "execution_count": null,
   "id": "9e61647e",
   "metadata": {},
   "outputs": [],
   "source": [
    "dat_smoke = y.get_smoke_data()\n",
    "dat_fire = y.get_fire_data()"
   ]
  },
  {
   "cell_type": "code",
   "execution_count": null,
   "id": "249a69b4",
   "metadata": {},
   "outputs": [],
   "source": [
    "dat_smoke[0][1]"
   ]
  },
  {
   "cell_type": "code",
   "execution_count": null,
   "id": "6a32a5ad",
   "metadata": {},
   "outputs": [],
   "source": [
    "str(dat_smoke[0][0])"
   ]
  },
  {
   "cell_type": "code",
   "execution_count": null,
   "id": "9877303a",
   "metadata": {},
   "outputs": [],
   "source": [
    "def smoke_style_row(row):\n",
    "    if row['Density'] == 'Light':\n",
    "        return {'fillColor': \"#b5b5b5\", 'weight': 1, \"color\": '#b5b5b5'}\n",
    "    elif row['Density'] == 'Medium':\n",
    "        return {'fillColor': '#6b6b6b', 'weight': 1, \"color\": '#6b6b6b'}\n",
    "    elif row['Density'] == 'Heavy':\n",
    "        return {'fillColor': '#AC0000', 'weight': 1, \"color\": '#AC0000'}\n",
    "    else:\n",
    "        return {'fillColor': \"#0201015A\", 'weight': 1, \"color\": '#0201015A'}\n",
    "\n",
    "melded_styled = [x.assign(style=x.apply(smoke_style_row, axis=1)) for x in melded]"
   ]
  },
  {
   "cell_type": "code",
   "execution_count": null,
   "id": "a1c12010",
   "metadata": {},
   "outputs": [],
   "source": [
    "# smoke_grouped = melded.groupby(['Density', 'Start'])\n",
    "smoke_grouped_density = [x.groupby('Density') for x in melded_styled]\n",
    "# smoke_grouped_time = melded.groupby('Start')                                     "
   ]
  },
  {
   "cell_type": "code",
   "execution_count": null,
   "id": "39f06f83",
   "metadata": {},
   "outputs": [],
   "source": [
    "# geojs_smoke_light = fl.GeoJson(light_gdf, name = 'light')\n",
    "# geojs_smoke_medium = fl.GeoJson(medium_gdf, name = 'medium')\n",
    "# geojs_smoke_heavy = fl.GeoJson(heavy_gdf, name = 'heavy')\n"
   ]
  },
  {
   "cell_type": "code",
   "execution_count": null,
   "id": "1078ac74",
   "metadata": {},
   "outputs": [],
   "source": [
    "# from folium.plugins import GroupedLayerControl\n",
    "\n",
    "# m = fl.Map(location=[39.8283, -98.5795], zoom_start=4)\n",
    "# density_group = []\n",
    "\n",
    "# for x in melded_styled:\n",
    "    \n",
    "#     grouped_smoke = x.groupby('Density')\n",
    "\n",
    "#     for group_name, group_data in grouped_smoke:\n",
    "\n",
    "#         density_group.append(fl.FeatureGroup(name = f\"{group_name}\"))\n",
    "        \n",
    "#         # layer_group = fl.FeatureGroup(name = f\"{group_name[0]}\")\n",
    "#         fl.GeoJson(group_data).add_to(density_group[-1])\n",
    "\n",
    "#         # m.add_child(f_group[-1])\n",
    "#         density_group[-1].add_to(m)\n",
    "\n",
    "#         # fl.features.GeoJsonPopup(\n",
    "#         #     fields=['Density', 'Start'],\n",
    "#         #     aliases=['Smoke Density', 'Capture Start Time']).add_to(f_group[-1])\n",
    "\n",
    "#     # for group_name, group_data in smoke_grouped_time:\n",
    "#     #     print(group_name)\n",
    "#     #     time_group.append(fl.FeatureGroup(name = f\"{group_name}\"))\n",
    "#     #     fl.GeoJson(group_data).add_to(time_group[-1])\n",
    "#     #     time_group[-1].add_to(m)\n",
    "\n",
    "# geojs_states = fl.GeoJson(states, \n",
    "#                           name='states', \n",
    "#                           control=False, \n",
    "#                           zoom_on_click=True,\n",
    "#                           style_function=lambda x: {'fillColor': \"#d0d0d06c\", 'weight': .5, \"color\": \"#333232\"}\n",
    "#                           ).add_to(m)\n",
    "\n",
    "# # fl.LayerControl().add_to(m)   \n",
    "\n",
    "# fl.plugins.Geocoder().add_to(m)\n",
    "    \n",
    "# fl.plugins.GroupedLayerControl(\n",
    "#     groups = {'Density': density_group},\n",
    "#     collapsed = False,\n",
    "#     exclusive_groups=False\n",
    "# ).add_to(m)\n",
    "\n",
    "# m"
   ]
  },
  {
   "cell_type": "code",
   "execution_count": null,
   "id": "cd18f3bf",
   "metadata": {},
   "outputs": [],
   "source": [
    "melded[0]"
   ]
  },
  {
   "cell_type": "code",
   "execution_count": null,
   "id": "35176e3c",
   "metadata": {},
   "outputs": [],
   "source": [
    "# Tree control\n",
    "\n",
    "# Need to fix labels for historic layers, Start/End are not accurate for the day\n",
    "\n",
    "from folium.plugins.treelayercontrol import TreeLayerControl\n",
    "from folium.plugins.geocoder import Geocoder\n",
    "\n",
    "m = fl.Map(location=[39.8283, -98.5795], zoom_start=4)\n",
    "\n",
    "historic_smoke_control = []\n",
    "\n",
    "for x in melded_styled:\n",
    "    \n",
    "    data_append = {\n",
    "        'label' : str(dt.datetime.strptime(x['Start'][0], '%Y%m%d %H%M')),\n",
    "        \"selectAllCheckbox\": \"Un/select All\",\n",
    "        'children': [\n",
    "            {\"label\": \"Light Smoke\", \"layer\": fl.GeoJson(x[x['Density'] == 'Light'], show = False).add_to(m)},\n",
    "            {\"label\": \"Medium Smoke\", \"layer\": fl.GeoJson(x[x['Density'] == 'Medium'], show = False).add_to(m)},\n",
    "            {\"label\": \"Heavy Smoke\", \"layer\": fl.GeoJson(x[x['Density'] == 'Heavy'], show = False).add_to(m)},\n",
    "            ]\n",
    "        }\n",
    "    \n",
    "    historic_smoke_control.append(data_append)\n",
    "\n",
    "# state_base = {\n",
    "#     \"label\": \"States\",\n",
    "#     \"layer\": fl.GeoJson(states, \n",
    "#                           name='states', \n",
    "#                           control=False, \n",
    "#                           overlay=False,\n",
    "#                           zoom_on_click=True,\n",
    "#                           style_function=lambda x: {'fillColor': \"#d0d0d06c\", 'weight': .5, \"color\": \"#333232\"}\n",
    "#                           ).add_to(m)\n",
    "# }\n",
    "\n",
    "overlay_tree = {\n",
    "    \"label\": \"Smoke Density Data\",\n",
    "    \"selectAllCheckbox\":True,\n",
    "    \"children\": [\n",
    "        {\n",
    "            \"label\": \"Yesterday Smoke Data\",\n",
    "            \"selectAllCheckbox\": True,\n",
    "            \"children\": [\n",
    "                {\"label\": \"Light Smoke\", \"layer\": fl.GeoJson(melded_styled[0][melded_styled[0]['Density'] == 'Light'],overlay=True).add_to(m)},\n",
    "                {\"label\": \"Medium Smoke\", \"layer\": fl.GeoJson(melded_styled[0][melded_styled[0]['Density'] == 'Medium'], overlay=True).add_to(m)},\n",
    "                {\"label\": \"Heavy Smoke\", \"layer\": fl.GeoJson(melded_styled[0][melded_styled[0]['Density'] == 'Heavy'], overlay= True).add_to(m)},\n",
    "                ]\n",
    "            }, {\n",
    "            \"label\": \"Last 7 Days Smoke Data\",\n",
    "            \"selectAllCheckbox\": True,\n",
    "            \"collapsed\": True,\n",
    "            \"children\": historic_smoke_control,\n",
    "        },\n",
    "    ]\n",
    "}\n",
    "\n",
    "\n",
    "tree_control = TreeLayerControl(overlay_tree = overlay_tree, collapsed=False).add_to(m)\n",
    "\n",
    "geojs_states = fl.GeoJson(states, \n",
    "                          name='states', \n",
    "                          control=True, \n",
    "                          zoom_on_click=True,\n",
    "                          style_function=lambda x: {'fillColor': \"#d0d0d06c\", 'weight': .5, \"color\": \"#333232\"}).add_to(m)\n",
    "\n",
    "Geocoder(position= \"topleft\").add_to(m)\n",
    "\n",
    "m"
   ]
  },
  {
   "cell_type": "code",
   "execution_count": null,
   "id": "f5ac2c7b",
   "metadata": {},
   "outputs": [],
   "source": [
    "m.save('hmsview_map.html')"
   ]
  },
  {
   "cell_type": "code",
   "execution_count": null,
   "id": "5ebbaf43",
   "metadata": {},
   "outputs": [],
   "source": [
    "heavy_group = fl.FeatureGroup(name= 'Heavy Smoke')\n",
    "fl.GeoJson(smoke_grouped.get_group())"
   ]
  },
  {
   "cell_type": "code",
   "execution_count": null,
   "id": "94be5f03",
   "metadata": {},
   "outputs": [],
   "source": [
    "fl.features.GeoJsonPopup(\n",
    "                        fields=['STUSPS', 'NAME'],\n",
    "                        aliases=['State Code', 'State Name']).add_to(geojs_states)\n",
    "\n",
    "geojs_states.add_to(m)"
   ]
  },
  {
   "cell_type": "code",
   "execution_count": null,
   "id": "94310ee8",
   "metadata": {},
   "outputs": [],
   "source": [
    "fl.features.GeoJsonPopup(\n",
    "                        fields=['Density', 'Start'],\n",
    "                        aliases=['Smoke Density', 'Capture Start Time']).add_to(geojs_smoke_light)\n",
    "geojs_smoke_light.add_to(m)"
   ]
  },
  {
   "cell_type": "code",
   "execution_count": null,
   "id": "70bbb6b5",
   "metadata": {},
   "outputs": [],
   "source": [
    "fl.features.GeoJsonPopup(\n",
    "                        fields=['Density', 'Start'],\n",
    "                        aliases=['Smoke Density', 'Capture Start Time']).add_to(geojs_smoke_medium)\n",
    "geojs_smoke_medium.add_to(m)"
   ]
  },
  {
   "cell_type": "code",
   "execution_count": null,
   "id": "3ea6ddad",
   "metadata": {},
   "outputs": [],
   "source": [
    "fl.features.GeoJsonPopup(\n",
    "                        fields=['Density', 'Start'],\n",
    "                        aliases=['Smoke Density', 'Capture Start Time']).add_to(geojs_smoke_heavy)\n",
    "geojs_smoke_heavy.add_to(m)"
   ]
  },
  {
   "cell_type": "code",
   "execution_count": null,
   "id": "019272b0",
   "metadata": {},
   "outputs": [],
   "source": [
    "fl.LayerControl().add_to(m)"
   ]
  },
  {
   "cell_type": "code",
   "execution_count": null,
   "id": "28fb5ff6",
   "metadata": {},
   "outputs": [],
   "source": [
    "m"
   ]
  },
  {
   "cell_type": "code",
   "execution_count": null,
   "id": "b4bfa278",
   "metadata": {},
   "outputs": [],
   "source": []
  },
  {
   "cell_type": "markdown",
   "id": "13b23032",
   "metadata": {},
   "source": [
    "### FAST API AND SQLALCHEMY"
   ]
  },
  {
   "cell_type": "code",
   "execution_count": null,
   "id": "f9622b17",
   "metadata": {},
   "outputs": [],
   "source": [
    "from fastapi import FastAPI\n",
    "\n",
    "app = FastAPI()\n",
    "\n",
    "@app.get(\"/\")\n",
    "async def root():\n",
    "    return {\"message\": \"Hello World\"}\n",
    "\n",
    "@app.get(\"/hello/{name}\")\n",
    "async def say_hello(name: str):\n",
    "    return {\"message\": f\"Hello, {name}!\"}"
   ]
  },
  {
   "cell_type": "code",
   "execution_count": null,
   "id": "d3e8d42f",
   "metadata": {},
   "outputs": [],
   "source": []
  }
 ],
 "metadata": {
  "kernelspec": {
   "display_name": "hmsview",
   "language": "python",
   "name": "python3"
  },
  "language_info": {
   "codemirror_mode": {
    "name": "ipython",
    "version": 3
   },
   "file_extension": ".py",
   "mimetype": "text/x-python",
   "name": "python",
   "nbconvert_exporter": "python",
   "pygments_lexer": "ipython3",
   "version": "3.13.1"
  }
 },
 "nbformat": 4,
 "nbformat_minor": 5
}
